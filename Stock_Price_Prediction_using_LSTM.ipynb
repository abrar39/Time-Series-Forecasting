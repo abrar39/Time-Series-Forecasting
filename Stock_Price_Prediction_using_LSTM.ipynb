{
  "nbformat": 4,
  "nbformat_minor": 0,
  "metadata": {
    "colab": {
      "provenance": [],
      "authorship_tag": "ABX9TyP9o/CmYqXrWEYps/bksJoB"
    },
    "kernelspec": {
      "name": "python3",
      "display_name": "Python 3"
    },
    "language_info": {
      "name": "python"
    }
  },
  "cells": [
    {
      "cell_type": "code",
      "execution_count": 100,
      "metadata": {
        "colab": {
          "base_uri": "https://localhost:8080/"
        },
        "id": "1aIFKQ6Lr7Xs",
        "outputId": "bc5a10d8-52e3-4363-c188-739931a6ec28"
      },
      "outputs": [
        {
          "output_type": "stream",
          "name": "stdout",
          "text": [
            "Requirement already satisfied: psx-data-reader in /usr/local/lib/python3.10/dist-packages (0.0.6)\n",
            "Requirement already satisfied: pandas in /usr/local/lib/python3.10/dist-packages (from psx-data-reader) (2.2.2)\n",
            "Requirement already satisfied: tqdm in /usr/local/lib/python3.10/dist-packages (from psx-data-reader) (4.66.6)\n",
            "Requirement already satisfied: beautifulsoup4 in /usr/local/lib/python3.10/dist-packages (from psx-data-reader) (4.12.3)\n",
            "Requirement already satisfied: requests in /usr/local/lib/python3.10/dist-packages (from psx-data-reader) (2.32.3)\n",
            "Requirement already satisfied: soupsieve>1.2 in /usr/local/lib/python3.10/dist-packages (from beautifulsoup4->psx-data-reader) (2.6)\n",
            "Requirement already satisfied: numpy>=1.22.4 in /usr/local/lib/python3.10/dist-packages (from pandas->psx-data-reader) (1.26.4)\n",
            "Requirement already satisfied: python-dateutil>=2.8.2 in /usr/local/lib/python3.10/dist-packages (from pandas->psx-data-reader) (2.8.2)\n",
            "Requirement already satisfied: pytz>=2020.1 in /usr/local/lib/python3.10/dist-packages (from pandas->psx-data-reader) (2024.2)\n",
            "Requirement already satisfied: tzdata>=2022.7 in /usr/local/lib/python3.10/dist-packages (from pandas->psx-data-reader) (2024.2)\n",
            "Requirement already satisfied: charset-normalizer<4,>=2 in /usr/local/lib/python3.10/dist-packages (from requests->psx-data-reader) (3.4.0)\n",
            "Requirement already satisfied: idna<4,>=2.5 in /usr/local/lib/python3.10/dist-packages (from requests->psx-data-reader) (3.10)\n",
            "Requirement already satisfied: urllib3<3,>=1.21.1 in /usr/local/lib/python3.10/dist-packages (from requests->psx-data-reader) (2.2.3)\n",
            "Requirement already satisfied: certifi>=2017.4.17 in /usr/local/lib/python3.10/dist-packages (from requests->psx-data-reader) (2024.8.30)\n",
            "Requirement already satisfied: six>=1.5 in /usr/local/lib/python3.10/dist-packages (from python-dateutil>=2.8.2->pandas->psx-data-reader) (1.17.0)\n"
          ]
        }
      ],
      "source": [
        "!pip install psx-data-reader"
      ]
    },
    {
      "cell_type": "code",
      "source": [
        "from psx import stocks, tickers\n",
        "import numpy as np\n",
        "import datetime\n",
        "import pandas as pd\n",
        "from sklearn.model_selection import train_test_split\n",
        "import matplotlib.pyplot as plt\n",
        "\n",
        "import torch\n",
        "import torch.nn as nn\n",
        "import torch.optim as optim\n",
        "from torch.utils.data import DataLoader, TensorDataset\n",
        "\n",
        "%matplotlib inline"
      ],
      "metadata": {
        "id": "lpL274k2sh9U"
      },
      "execution_count": 101,
      "outputs": []
    },
    {
      "cell_type": "code",
      "source": [
        "from google.colab import userdata\n",
        "import wandb\n",
        "wandb.login(key=userdata.get('wandb'))"
      ],
      "metadata": {
        "colab": {
          "base_uri": "https://localhost:8080/"
        },
        "id": "qf3LhwS61DbN",
        "outputId": "2144fde2-5307-4a4f-8c3d-e08201824a36"
      },
      "execution_count": 102,
      "outputs": [
        {
          "output_type": "stream",
          "name": "stderr",
          "text": [
            "\u001b[34m\u001b[1mwandb\u001b[0m: \u001b[33mWARNING\u001b[0m If you're specifying your api key in code, ensure this code is not shared publicly.\n",
            "\u001b[34m\u001b[1mwandb\u001b[0m: \u001b[33mWARNING\u001b[0m Consider setting the WANDB_API_KEY environment variable, or running `wandb login` from the command line.\n",
            "\u001b[34m\u001b[1mwandb\u001b[0m: Appending key for api.wandb.ai to your netrc file: /root/.netrc\n"
          ]
        },
        {
          "output_type": "execute_result",
          "data": {
            "text/plain": [
              "True"
            ]
          },
          "metadata": {},
          "execution_count": 102
        }
      ]
    },
    {
      "cell_type": "code",
      "source": [
        "# Companies to scrape\n",
        "companies = ['EFERT', 'ILP', 'PABC']\n",
        "data = stocks(companies, start=datetime.date(2020, 1, 1), end=datetime.date.today())"
      ],
      "metadata": {
        "colab": {
          "base_uri": "https://localhost:8080/"
        },
        "id": "rrTJRyvIsKhp",
        "outputId": "60fc59b5-c678-4aaf-9e1a-193f8fd00c46"
      },
      "execution_count": 104,
      "outputs": [
        {
          "output_type": "stream",
          "name": "stderr",
          "text": [
            "Downloading EFERT's Data: 100%|██████████| 61/61 [00:08<00:00,  7.02it/s]\n",
            "/usr/local/lib/python3.10/dist-packages/psx/web.py:100: FutureWarning: The behavior of array concatenation with empty entries is deprecated. In a future version, this will no longer exclude empty items when determining the result dtype. To retain the old behavior, exclude the empty entries before the concat operation.\n",
            "  data = pd.concat(data)\n",
            "Downloading ILP's Data: 100%|██████████| 61/61 [00:08<00:00,  7.39it/s]\n",
            "/usr/local/lib/python3.10/dist-packages/psx/web.py:100: FutureWarning: The behavior of array concatenation with empty entries is deprecated. In a future version, this will no longer exclude empty items when determining the result dtype. To retain the old behavior, exclude the empty entries before the concat operation.\n",
            "  data = pd.concat(data)\n",
            "Downloading PABC's Data: 100%|██████████| 61/61 [00:07<00:00,  7.96it/s]\n",
            "/usr/local/lib/python3.10/dist-packages/psx/web.py:100: FutureWarning: The behavior of array concatenation with empty entries is deprecated. In a future version, this will no longer exclude empty items when determining the result dtype. To retain the old behavior, exclude the empty entries before the concat operation.\n",
            "  data = pd.concat(data)\n"
          ]
        }
      ]
    },
    {
      "cell_type": "code",
      "source": [
        "def company_eda(company_name : str, print_head : bool = True, plot_historical_values : bool = True):\n",
        "  # Print the head of the company data\n",
        "  if print_head:\n",
        "    print(\"Printing Head...\")\n",
        "    print(data.loc[company_name].head())\n",
        "\n",
        "  if plot_historical_values:\n",
        "    # Plot the historical values of the company\n",
        "    data.loc[company_name]['Close'].plot()\n",
        "\n",
        "  # Print the summary statistics of the company\n",
        "  print(\"Printing Summary Statistics...\")\n",
        "  print(data.loc[company_name].describe())"
      ],
      "metadata": {
        "id": "4H0_GFrd5p8M"
      },
      "execution_count": 105,
      "outputs": []
    },
    {
      "cell_type": "code",
      "source": [
        "company_eda('EFERT')"
      ],
      "metadata": {
        "colab": {
          "base_uri": "https://localhost:8080/",
          "height": 744
        },
        "id": "G9vBdSXK6mTo",
        "outputId": "27b384b1-eaa0-48d4-a185-c4776090b399"
      },
      "execution_count": 106,
      "outputs": [
        {
          "output_type": "stream",
          "name": "stdout",
          "text": [
            "Printing Head...\n",
            "             Open   High    Low  Close     Volume\n",
            "Date                                             \n",
            "2020-01-01  73.44  74.40  73.29  73.86  1039500.0\n",
            "2020-01-02  74.15  74.57  73.60  74.01  3035000.0\n",
            "2020-01-03  74.20  74.29  73.19  73.57  2232000.0\n",
            "2020-01-06  72.98  73.40  71.00  72.64  1577500.0\n",
            "2020-01-07  72.84  74.19  72.00  73.57  2328500.0\n",
            "Printing Summary Statistics...\n",
            "              Open         High          Low        Close        Volume\n",
            "count  1227.000000  1227.000000  1227.000000  1227.000000  1.227000e+03\n",
            "mean     92.627425    93.667873    91.670098    92.680024  1.854067e+06\n",
            "std      37.570737    38.229402    36.988647    37.645724  1.820383e+06\n",
            "min      50.010000    52.950000    48.990000    50.720000  1.375870e+05\n",
            "25%      67.510000    68.000000    66.945000    67.550000  7.889565e+05\n",
            "50%      80.300000    81.000000    79.800000    80.410000  1.334509e+06\n",
            "75%      90.275000    91.440000    89.505000    90.570000  2.204892e+06\n",
            "max     213.000000   215.000000   208.100000   210.280000  1.850787e+07\n"
          ]
        },
        {
          "output_type": "display_data",
          "data": {
            "text/plain": [
              "<Figure size 640x480 with 1 Axes>"
            ],
            "image/png": "[encoded data removed]"
          },
          "metadata": {}
        }
      ]
    },
    {
      "cell_type": "code",
      "source": [
        "def generate_windowed_data(company_data, window_size):\n",
        "  periods = np.arange(1, window_size+1)  # T-1 to T-n where n = window size\n",
        "  company_data = company_data.assign(**{f\"Close T-{period}\": company_data['Close'].shift(period) for period in periods})\n",
        "\n",
        "  return company_data.dropna()"
      ],
      "metadata": {
        "id": "oixGT3-n64ox"
      },
      "execution_count": 131,
      "outputs": []
    },
    {
      "cell_type": "code",
      "source": [
        "efert_data = data.loc['EFERT'].copy()\n",
        "efert_data = generate_windowed_data(efert_data, 10)\n",
        "efert_data.head()"
      ],
      "metadata": {
        "colab": {
          "base_uri": "https://localhost:8080/",
          "height": 238
        },
        "id": "j5voujRB7sLr",
        "outputId": "8ddf5990-f323-4081-8be8-52818e673b96"
      },
      "execution_count": 132,
      "outputs": [
        {
          "output_type": "execute_result",
          "data": {
            "text/plain": [
              "            Open   High    Low  Close      Volume  Close T-1  Close T-2  \\\n",
              "Date                                                                      \n",
              "2020-01-15  75.5  75.75  74.86  75.07    594500.0      75.56      75.05   \n",
              "2020-01-16  75.2  75.30  74.61  75.16    588500.0      75.07      75.56   \n",
              "2020-01-17  75.0  75.59  74.75  75.30   1323000.0      75.16      75.07   \n",
              "2020-01-20  75.1  75.15  71.16  71.17  15269000.0      75.30      75.16   \n",
              "2020-01-21  69.0  70.14  68.20  68.49   6675000.0      71.17      75.30   \n",
              "\n",
              "            Close T-3  Close T-4  Close T-5  Close T-6  Close T-7  Close T-8  \\\n",
              "Date                                                                           \n",
              "2020-01-15      74.94      74.83      72.84      73.57      72.64      73.57   \n",
              "2020-01-16      75.05      74.94      74.83      72.84      73.57      72.64   \n",
              "2020-01-17      75.56      75.05      74.94      74.83      72.84      73.57   \n",
              "2020-01-20      75.07      75.56      75.05      74.94      74.83      72.84   \n",
              "2020-01-21      75.16      75.07      75.56      75.05      74.94      74.83   \n",
              "\n",
              "            Close T-9  Close T-10  \n",
              "Date                               \n",
              "2020-01-15      74.01       73.86  \n",
              "2020-01-16      73.57       74.01  \n",
              "2020-01-17      72.64       73.57  \n",
              "2020-01-20      73.57       72.64  \n",
              "2020-01-21      72.84       73.57  "
            ],
            "text/html": [
              "\n",
              "  <div id=\"df-f1a786a5-7f4d-48ba-8cec-3e2121219cd8\" class=\"colab-df-container\">\n",
              "    <div>\n",
              "<style scoped>\n",
              "    .dataframe tbody tr th:only-of-type {\n",
              "        vertical-align: middle;\n",
              "    }\n",
              "\n",
              "    .dataframe tbody tr th {\n",
              "        vertical-align: top;\n",
              "    }\n",
              "\n",
              "    .dataframe thead th {\n",
              "        text-align: right;\n",
              "    }\n",
              "</style>\n",
              "<table border=\"1\" class=\"dataframe\">\n",
              "  <thead>\n",
              "    <tr style=\"text-align: right;\">\n",
              "      <th></th>\n",
              "      <th>Open</th>\n",
              "      <th>High</th>\n",
              "      <th>Low</th>\n",
              "      <th>Close</th>\n",
              "      <th>Volume</th>\n",
              "      <th>Close T-1</th>\n",
              "      <th>Close T-2</th>\n",
              "      <th>Close T-3</th>\n",
              "      <th>Close T-4</th>\n",
              "      <th>Close T-5</th>\n",
              "      <th>Close T-6</th>\n",
              "      <th>Close T-7</th>\n",
              "      <th>Close T-8</th>\n",
              "      <th>Close T-9</th>\n",
              "      <th>Close T-10</th>\n",
              "    </tr>\n",
              "    <tr>\n",
              "      <th>Date</th>\n",
              "      <th></th>\n",
              "      <th></th>\n",
              "      <th></th>\n",
              "      <th></th>\n",
              "      <th></th>\n",
              "      <th></th>\n",
              "      <th></th>\n",
              "      <th></th>\n",
              "      <th></th>\n",
              "      <th></th>\n",
              "      <th></th>\n",
              "      <th></th>\n",
              "      <th></th>\n",
              "      <th></th>\n",
              "      <th></th>\n",
              "    </tr>\n",
              "  </thead>\n",
              "  <tbody>\n",
              "    <tr>\n",
              "      <th>2020-01-15</th>\n",
              "      <td>75.5</td>\n",
              "      <td>75.75</td>\n",
              "      <td>74.86</td>\n",
              "      <td>75.07</td>\n",
              "      <td>594500.0</td>\n",
              "      <td>75.56</td>\n",
              "      <td>75.05</td>\n",
              "      <td>74.94</td>\n",
              "      <td>74.83</td>\n",
              "      <td>72.84</td>\n",
              "      <td>73.57</td>\n",
              "      <td>72.64</td>\n",
              "      <td>73.57</td>\n",
              "      <td>74.01</td>\n",
              "      <td>73.86</td>\n",
              "    </tr>\n",
              "    <tr>\n",
              "      <th>2020-01-16</th>\n",
              "      <td>75.2</td>\n",
              "      <td>75.30</td>\n",
              "      <td>74.61</td>\n",
              "      <td>75.16</td>\n",
              "      <td>588500.0</td>\n",
              "      <td>75.07</td>\n",
              "      <td>75.56</td>\n",
              "      <td>75.05</td>\n",
              "      <td>74.94</td>\n",
              "      <td>74.83</td>\n",
              "      <td>72.84</td>\n",
              "      <td>73.57</td>\n",
              "      <td>72.64</td>\n",
              "      <td>73.57</td>\n",
              "      <td>74.01</td>\n",
              "    </tr>\n",
              "    <tr>\n",
              "      <th>2020-01-17</th>\n",
              "      <td>75.0</td>\n",
              "      <td>75.59</td>\n",
              "      <td>74.75</td>\n",
              "      <td>75.30</td>\n",
              "      <td>1323000.0</td>\n",
              "      <td>75.16</td>\n",
              "      <td>75.07</td>\n",
              "      <td>75.56</td>\n",
              "      <td>75.05</td>\n",
              "      <td>74.94</td>\n",
              "      <td>74.83</td>\n",
              "      <td>72.84</td>\n",
              "      <td>73.57</td>\n",
              "      <td>72.64</td>\n",
              "      <td>73.57</td>\n",
              "    </tr>\n",
              "    <tr>\n",
              "      <th>2020-01-20</th>\n",
              "      <td>75.1</td>\n",
              "      <td>75.15</td>\n",
              "      <td>71.16</td>\n",
              "      <td>71.17</td>\n",
              "      <td>15269000.0</td>\n",
              "      <td>75.30</td>\n",
              "      <td>75.16</td>\n",
              "      <td>75.07</td>\n",
              "      <td>75.56</td>\n",
              "      <td>75.05</td>\n",
              "      <td>74.94</td>\n",
              "      <td>74.83</td>\n",
              "      <td>72.84</td>\n",
              "      <td>73.57</td>\n",
              "      <td>72.64</td>\n",
              "    </tr>\n",
              "    <tr>\n",
              "      <th>2020-01-21</th>\n",
              "      <td>69.0</td>\n",
              "      <td>70.14</td>\n",
              "      <td>68.20</td>\n",
              "      <td>68.49</td>\n",
              "      <td>6675000.0</td>\n",
              "      <td>71.17</td>\n",
              "      <td>75.30</td>\n",
              "      <td>75.16</td>\n",
              "      <td>75.07</td>\n",
              "      <td>75.56</td>\n",
              "      <td>75.05</td>\n",
              "      <td>74.94</td>\n",
              "      <td>74.83</td>\n",
              "      <td>72.84</td>\n",
              "      <td>73.57</td>\n",
              "    </tr>\n",
              "  </tbody>\n",
              "</table>\n",
              "</div>\n",
              "    <div class=\"colab-df-buttons\">\n",
              "\n",
              "  <div class=\"colab-df-container\">\n",
              "    <button class=\"colab-df-convert\" onclick=\"convertToInteractive('df-f1a786a5-7f4d-48ba-8cec-3e2121219cd8')\"\n",
              "            title=\"Convert this dataframe to an interactive table.\"\n",
              "            style=\"display:none;\">\n",
              "\n",
              "  <svg xmlns=\"http://www.w3.org/2000/svg\" height=\"24px\" viewBox=\"0 -960 960 960\">\n",
              "    <path d=\"M120-120v-720h720v720H120Zm60-500h600v-160H180v160Zm220 220h160v-160H400v160Zm0 220h160v-160H400v160ZM180-400h160v-160H180v160Zm440 0h160v-160H620v160ZM180-180h160v-160H180v160Zm440 0h160v-160H620v160Z\"/>\n",
              "  </svg>\n",
              "    </button>\n",
              "\n",
              "  <style>\n",
              "    .colab-df-container {\n",
              "      display:flex;\n",
              "      gap: 12px;\n",
              "    }\n",
              "\n",
              "    .colab-df-convert {\n",
              "      background-color: #E8F0FE;\n",
              "      border: none;\n",
              "      border-radius: 50%;\n",
              "      cursor: pointer;\n",
              "      display: none;\n",
              "      fill: #1967D2;\n",
              "      height: 32px;\n",
              "      padding: 0 0 0 0;\n",
              "      width: 32px;\n",
              "    }\n",
              "\n",
              "    .colab-df-convert:hover {\n",
              "      background-color: #E2EBFA;\n",
              "      box-shadow: 0px 1px 2px rgba(60, 64, 67, 0.3), 0px 1px 3px 1px rgba(60, 64, 67, 0.15);\n",
              "      fill: #174EA6;\n",
              "    }\n",
              "\n",
              "    .colab-df-buttons div {\n",
              "      margin-bottom: 4px;\n",
              "    }\n",
              "\n",
              "    [theme=dark] .colab-df-convert {\n",
              "      background-color: #3B4455;\n",
              "      fill: #D2E3FC;\n",
              "    }\n",
              "\n",
              "    [theme=dark] .colab-df-convert:hover {\n",
              "      background-color: #434B5C;\n",
              "      box-shadow: 0px 1px 3px 1px rgba(0, 0, 0, 0.15);\n",
              "      filter: drop-shadow(0px 1px 2px rgba(0, 0, 0, 0.3));\n",
              "      fill: #FFFFFF;\n",
              "    }\n",
              "  </style>\n",
              "\n",
              "    <script>\n",
              "      const buttonEl =\n",
              "        document.querySelector('#df-f1a786a5-7f4d-48ba-8cec-3e2121219cd8 button.colab-df-convert');\n",
              "      buttonEl.style.display =\n",
              "        google.colab.kernel.accessAllowed ? 'block' : 'none';\n",
              "\n",
              "      async function convertToInteractive(key) {\n",
              "        const element = document.querySelector('#df-f1a786a5-7f4d-48ba-8cec-3e2121219cd8');\n",
              "        const dataTable =\n",
              "          await google.colab.kernel.invokeFunction('convertToInteractive',\n",
              "                                                    [key], {});\n",
              "        if (!dataTable) return;\n",
              "\n",
              "        const docLinkHtml = 'Like what you see? Visit the ' +\n",
              "          '<a target=\"_blank\" href=https://colab.research.google.com/notebooks/data_table.ipynb>data table notebook</a>'\n",
              "          + ' to learn more about interactive tables.';\n",
              "        element.innerHTML = '';\n",
              "        dataTable['output_type'] = 'display_data';\n",
              "        await google.colab.output.renderOutput(dataTable, element);\n",
              "        const docLink = document.createElement('div');\n",
              "        docLink.innerHTML = docLinkHtml;\n",
              "        element.appendChild(docLink);\n",
              "      }\n",
              "    </script>\n",
              "  </div>\n",
              "\n",
              "\n",
              "<div id=\"df-d4440198-a262-479d-b019-33e899637c71\">\n",
              "  <button class=\"colab-df-quickchart\" onclick=\"quickchart('df-d4440198-a262-479d-b019-33e899637c71')\"\n",
              "            title=\"Suggest charts\"\n",
              "            style=\"display:none;\">\n",
              "\n",
              "<svg xmlns=\"http://www.w3.org/2000/svg\" height=\"24px\"viewBox=\"0 0 24 24\"\n",
              "     width=\"24px\">\n",
              "    <g>\n",
              "        <path d=\"M19 3H5c-1.1 0-2 .9-2 2v14c0 1.1.9 2 2 2h14c1.1 0 2-.9 2-2V5c0-1.1-.9-2-2-2zM9 17H7v-7h2v7zm4 0h-2V7h2v10zm4 0h-2v-4h2v4z\"/>\n",
              "    </g>\n",
              "</svg>\n",
              "  </button>\n",
              "\n",
              "<style>\n",
              "  .colab-df-quickchart {\n",
              "      --bg-color: #E8F0FE;\n",
              "      --fill-color: #1967D2;\n",
              "      --hover-bg-color: #E2EBFA;\n",
              "      --hover-fill-color: #174EA6;\n",
              "      --disabled-fill-color: #AAA;\n",
              "      --disabled-bg-color: #DDD;\n",
              "  }\n",
              "\n",
              "  [theme=dark] .colab-df-quickchart {\n",
              "      --bg-color: #3B4455;\n",
              "      --fill-color: #D2E3FC;\n",
              "      --hover-bg-color: #434B5C;\n",
              "      --hover-fill-color: #FFFFFF;\n",
              "      --disabled-bg-color: #3B4455;\n",
              "      --disabled-fill-color: #666;\n",
              "  }\n",
              "\n",
              "  .colab-df-quickchart {\n",
              "    background-color: var(--bg-color);\n",
              "    border: none;\n",
              "    border-radius: 50%;\n",
              "    cursor: pointer;\n",
              "    display: none;\n",
              "    fill: var(--fill-color);\n",
              "    height: 32px;\n",
              "    padding: 0;\n",
              "    width: 32px;\n",
              "  }\n",
              "\n",
              "  .colab-df-quickchart:hover {\n",
              "    background-color: var(--hover-bg-color);\n",
              "    box-shadow: 0 1px 2px rgba(60, 64, 67, 0.3), 0 1px 3px 1px rgba(60, 64, 67, 0.15);\n",
              "    fill: var(--button-hover-fill-color);\n",
              "  }\n",
              "\n",
              "  .colab-df-quickchart-complete:disabled,\n",
              "  .colab-df-quickchart-complete:disabled:hover {\n",
              "    background-color: var(--disabled-bg-color);\n",
              "    fill: var(--disabled-fill-color);\n",
              "    box-shadow: none;\n",
              "  }\n",
              "\n",
              "  .colab-df-spinner {\n",
              "    border: 2px solid var(--fill-color);\n",
              "    border-color: transparent;\n",
              "    border-bottom-color: var(--fill-color);\n",
              "    animation:\n",
              "      spin 1s steps(1) infinite;\n",
              "  }\n",
              "\n",
              "  @keyframes spin {\n",
              "    0% {\n",
              "      border-color: transparent;\n",
              "      border-bottom-color: var(--fill-color);\n",
              "      border-left-color: var(--fill-color);\n",
              "    }\n",
              "    20% {\n",
              "      border-color: transparent;\n",
              "      border-left-color: var(--fill-color);\n",
              "      border-top-color: var(--fill-color);\n",
              "    }\n",
              "    30% {\n",
              "      border-color: transparent;\n",
              "      border-left-color: var(--fill-color);\n",
              "      border-top-color: var(--fill-color);\n",
              "      border-right-color: var(--fill-color);\n",
              "    }\n",
              "    40% {\n",
              "      border-color: transparent;\n",
              "      border-right-color: var(--fill-color);\n",
              "      border-top-color: var(--fill-color);\n",
              "    }\n",
              "    60% {\n",
              "      border-color: transparent;\n",
              "      border-right-color: var(--fill-color);\n",
              "    }\n",
              "    80% {\n",
              "      border-color: transparent;\n",
              "      border-right-color: var(--fill-color);\n",
              "      border-bottom-color: var(--fill-color);\n",
              "    }\n",
              "    90% {\n",
              "      border-color: transparent;\n",
              "      border-bottom-color: var(--fill-color);\n",
              "    }\n",
              "  }\n",
              "</style>\n",
              "\n",
              "  <script>\n",
              "    async function quickchart(key) {\n",
              "      const quickchartButtonEl =\n",
              "        document.querySelector('#' + key + ' button');\n",
              "      quickchartButtonEl.disabled = true;  // To prevent multiple clicks.\n",
              "      quickchartButtonEl.classList.add('colab-df-spinner');\n",
              "      try {\n",
              "        const charts = await google.colab.kernel.invokeFunction(\n",
              "            'suggestCharts', [key], {});\n",
              "      } catch (error) {\n",
              "        console.error('Error during call to suggestCharts:', error);\n",
              "      }\n",
              "      quickchartButtonEl.classList.remove('colab-df-spinner');\n",
              "      quickchartButtonEl.classList.add('colab-df-quickchart-complete');\n",
              "    }\n",
              "    (() => {\n",
              "      let quickchartButtonEl =\n",
              "        document.querySelector('#df-d4440198-a262-479d-b019-33e899637c71 button');\n",
              "      quickchartButtonEl.style.display =\n",
              "        google.colab.kernel.accessAllowed ? 'block' : 'none';\n",
              "    })();\n",
              "  </script>\n",
              "</div>\n",
              "\n",
              "    </div>\n",
              "  </div>\n"
            ],
            "application/vnd.google.colaboratory.intrinsic+json": {
              "type": "dataframe",
              "variable_name": "efert_data",
              "summary": "{\n  \"name\": \"efert_data\",\n  \"rows\": 1217,\n  \"fields\": [\n    {\n      \"column\": \"Date\",\n      \"properties\": {\n        \"dtype\": \"date\",\n        \"min\": \"2020-01-15 00:00:00\",\n        \"max\": \"2024-12-13 00:00:00\",\n        \"num_unique_values\": 1217,\n        \"samples\": [\n          \"2022-03-17 00:00:00\",\n          \"2021-01-27 00:00:00\",\n          \"2020-03-17 00:00:00\"\n        ],\n        \"semantic_type\": \"\",\n        \"description\": \"\"\n      }\n    },\n    {\n      \"column\": \"Open\",\n      \"properties\": {\n        \"dtype\": \"number\",\n        \"std\": 37.686372337150914,\n        \"min\": 50.01,\n        \"max\": 213.0,\n        \"num_unique_values\": 896,\n        \"samples\": [\n          123.0,\n          90.25,\n          81.65\n        ],\n        \"semantic_type\": \"\",\n        \"description\": \"\"\n      }\n    },\n    {\n      \"column\": \"High\",\n      \"properties\": {\n        \"dtype\": \"number\",\n        \"std\": 38.34693998283495,\n        \"min\": 52.95,\n        \"max\": 215.0,\n        \"num_unique_values\": 882,\n        \"samples\": [\n          52.95,\n          75.25,\n          60.95\n        ],\n        \"semantic_type\": \"\",\n        \"description\": \"\"\n      }\n    },\n    {\n      \"column\": \"Low\",\n      \"properties\": {\n        \"dtype\": \"number\",\n        \"std\": 37.102385541690204,\n        \"min\": 48.99,\n        \"max\": 208.1,\n        \"num_unique_values\": 887,\n        \"samples\": [\n          68.1,\n          121.1,\n          78.5\n        ],\n        \"semantic_type\": \"\",\n        \"description\": \"\"\n      }\n    },\n    {\n      \"column\": \"Close\",\n      \"properties\": {\n        \"dtype\": \"number\",\n        \"std\": 37.762173659556055,\n        \"min\": 50.72,\n        \"max\": 210.28,\n        \"num_unique_values\": 1081,\n        \"samples\": [\n          73.42,\n          91.56,\n          85.97\n        ],\n        \"semantic_type\": \"\",\n        \"description\": \"\"\n      }\n    },\n    {\n      \"column\": \"Volume\",\n      \"properties\": {\n        \"dtype\": \"number\",\n        \"std\": 1826762.1408785724,\n        \"min\": 137587.0,\n        \"max\": 18507868.0,\n        \"num_unique_values\": 1217,\n        \"samples\": [\n          530891.0,\n          778941.0,\n          1588500.0\n        ],\n        \"semantic_type\": \"\",\n        \"description\": \"\"\n      }\n    },\n    {\n      \"column\": \"Close T-1\",\n      \"properties\": {\n        \"dtype\": \"number\",\n        \"std\": 37.628919066628114,\n        \"min\": 50.72,\n        \"max\": 210.28,\n        \"num_unique_values\": 1081,\n        \"samples\": [\n          73.86,\n          91.16,\n          86.1\n        ],\n        \"semantic_type\": \"\",\n        \"description\": \"\"\n      }\n    },\n    {\n      \"column\": \"Close T-2\",\n      \"properties\": {\n        \"dtype\": \"number\",\n        \"std\": 37.48313891144871,\n        \"min\": 50.72,\n        \"max\": 210.28,\n        \"num_unique_values\": 1081,\n        \"samples\": [\n          73.82,\n          90.56,\n          86.39\n        ],\n        \"semantic_type\": \"\",\n        \"description\": \"\"\n      }\n    },\n    {\n      \"column\": \"Close T-3\",\n      \"properties\": {\n        \"dtype\": \"number\",\n        \"std\": 37.352820205478025,\n        \"min\": 50.72,\n        \"max\": 210.28,\n        \"num_unique_values\": 1081,\n        \"samples\": [\n          73.08,\n          89.08,\n          85.67\n        ],\n        \"semantic_type\": \"\",\n        \"description\": \"\"\n      }\n    },\n    {\n      \"column\": \"Close T-4\",\n      \"properties\": {\n        \"dtype\": \"number\",\n        \"std\": 37.21968335280094,\n        \"min\": 50.72,\n        \"max\": 210.28,\n        \"num_unique_values\": 1080,\n        \"samples\": [\n          72.68,\n          89.08,\n          85.67\n        ],\n        \"semantic_type\": \"\",\n        \"description\": \"\"\n      }\n    },\n    {\n      \"column\": \"Close T-5\",\n      \"properties\": {\n        \"dtype\": \"number\",\n        \"std\": 37.0704900059401,\n        \"min\": 50.72,\n        \"max\": 210.28,\n        \"num_unique_values\": 1079,\n        \"samples\": [\n          72.68,\n          89.08,\n          85.32\n        ],\n        \"semantic_type\": \"\",\n        \"description\": \"\"\n      }\n    },\n    {\n      \"column\": \"Close T-6\",\n      \"properties\": {\n        \"dtype\": \"number\",\n        \"std\": 36.922967497808905,\n        \"min\": 50.72,\n        \"max\": 210.28,\n        \"num_unique_values\": 1079,\n        \"samples\": [\n          70.65,\n          89.51,\n          85.58\n        ],\n        \"semantic_type\": \"\",\n        \"description\": \"\"\n      }\n    },\n    {\n      \"column\": \"Close T-7\",\n      \"properties\": {\n        \"dtype\": \"number\",\n        \"std\": 36.77141464577908,\n        \"min\": 50.72,\n        \"max\": 208.75,\n        \"num_unique_values\": 1079,\n        \"samples\": [\n          74.6,\n          88.89,\n          87.0\n        ],\n        \"semantic_type\": \"\",\n        \"description\": \"\"\n      }\n    },\n    {\n      \"column\": \"Close T-8\",\n      \"properties\": {\n        \"dtype\": \"number\",\n        \"std\": 36.631723357850284,\n        \"min\": 50.72,\n        \"max\": 208.75,\n        \"num_unique_values\": 1078,\n        \"samples\": [\n          74.6,\n          88.89,\n          100.41\n        ],\n        \"semantic_type\": \"\",\n        \"description\": \"\"\n      }\n    },\n    {\n      \"column\": \"Close T-9\",\n      \"properties\": {\n        \"dtype\": \"number\",\n        \"std\": 36.49015330555313,\n        \"min\": 50.72,\n        \"max\": 208.75,\n        \"num_unique_values\": 1078,\n        \"samples\": [\n          73.78,\n          87.99,\n          100.88\n        ],\n        \"semantic_type\": \"\",\n        \"description\": \"\"\n      }\n    },\n    {\n      \"column\": \"Close T-10\",\n      \"properties\": {\n        \"dtype\": \"number\",\n        \"std\": 36.35766141425901,\n        \"min\": 50.72,\n        \"max\": 208.75,\n        \"num_unique_values\": 1077,\n        \"samples\": [\n          75.13,\n          87.99,\n          160.38\n        ],\n        \"semantic_type\": \"\",\n        \"description\": \"\"\n      }\n    }\n  ]\n}"
            }
          },
          "metadata": {},
          "execution_count": 132
        }
      ]
    },
    {
      "cell_type": "code",
      "source": [
        "# Create the X, and y arrays containing the features, and targets respectively.\n",
        "def create_x_y(df, window_size):\n",
        "  # select X columns\n",
        "  X_columns = [f\"Close T-{period}\" for period in np.arange(1, window_size+1)]\n",
        "  y_column = [\"Close\"]\n",
        "\n",
        "  X = df[X_columns].values # we need numpy arrays for training\n",
        "  y = df[y_column].values\n",
        "\n",
        "  # Reshape the X matrix as required by the training algorithm\n",
        "  X = X.reshape(X.shape[0], X.shape[1], 1) # [num_samples, sequence_length, num_features]\n",
        "  #X = X.reshape(X.shape[0], 5, 1)  # [num_samples, sequence_length, num_features]\n",
        "  return X.astype(np.float32), y.astype(np.float32)"
      ],
      "metadata": {
        "id": "kK35Yp4U85VT"
      },
      "execution_count": 133,
      "outputs": []
    },
    {
      "cell_type": "code",
      "source": [
        "X, y = create_x_y(efert_data, 10)\n",
        "X.shape, y.shape"
      ],
      "metadata": {
        "colab": {
          "base_uri": "https://localhost:8080/"
        },
        "id": "LDa_YyFwBwHr",
        "outputId": "eab4af7a-8359-4acb-ba80-9b6012be27d0"
      },
      "execution_count": 134,
      "outputs": [
        {
          "output_type": "execute_result",
          "data": {
            "text/plain": [
              "((1217, 10, 1), (1217, 1))"
            ]
          },
          "metadata": {},
          "execution_count": 134
        }
      ]
    },
    {
      "cell_type": "code",
      "source": [
        "# Split the data into train, test, and validation sets\n",
        "X_train, X_remaining, y_train, y_remaining = train_test_split(X, y, test_size=0.2, shuffle=False)\n",
        "X_val, X_test, y_val, y_test = train_test_split(X_remaining, y_remaining, test_size=0.5, shuffle=False)"
      ],
      "metadata": {
        "id": "7KxANGckCYwQ"
      },
      "execution_count": 135,
      "outputs": []
    },
    {
      "cell_type": "code",
      "source": [
        "# convert the data into tensors for use in pytorch\n",
        "X_train = torch.from_numpy(X_train).float()\n",
        "y_train = torch.from_numpy(y_train).float()\n",
        "\n",
        "X_test = torch.from_numpy(X_test).float()\n",
        "y_test = torch.from_numpy(y_test).float()\n",
        "\n",
        "X_val = torch.from_numpy(X_val).float()\n",
        "y_val = torch.from_numpy(y_val).float()"
      ],
      "metadata": {
        "id": "uJgrQhP4L7Xf"
      },
      "execution_count": 136,
      "outputs": []
    },
    {
      "cell_type": "code",
      "source": [
        "X_train.shape, y_train.shape"
      ],
      "metadata": {
        "colab": {
          "base_uri": "https://localhost:8080/"
        },
        "id": "beWYC9P_MWMf",
        "outputId": "80968900-6d65-4eb8-b108-9d0cac64c6f5"
      },
      "execution_count": 137,
      "outputs": [
        {
          "output_type": "execute_result",
          "data": {
            "text/plain": [
              "(torch.Size([973, 10, 1]), torch.Size([973, 1]))"
            ]
          },
          "metadata": {},
          "execution_count": 137
        }
      ]
    },
    {
      "cell_type": "markdown",
      "source": [
        "Now that we have the data ready. We can begin creation of our model for prediction."
      ],
      "metadata": {
        "id": "R8cjuYB7-6SB"
      }
    },
    {
      "cell_type": "markdown",
      "source": [
        "# Create the Model\n",
        "I shall use pytorch sequential model to create the LSTM model."
      ],
      "metadata": {
        "id": "InLihugRDXxK"
      }
    },
    {
      "cell_type": "code",
      "source": [
        "wandb.init(project=\"time-series-forecasting\",\n",
        "           name=\"exp-005\",\n",
        "           notes=\"Hidden Size increased from 10 to 20\",\n",
        "           config={\n",
        "               \"hidden_size\": 20,\n",
        "               \"num_layers\": 1,\n",
        "               \"dropout\": 0.5,\n",
        "               \"batch_size\": 32,\n",
        "               \"learning_rate\": 1e-3,\n",
        "               \"epochs\" : 1000,\n",
        "               \"weight_decay\": 1e-5\n",
        "})\n",
        "\n",
        "config = wandb.config"
      ],
      "metadata": {
        "colab": {
          "base_uri": "https://localhost:8080/",
          "height": 104
        },
        "id": "aCb8NUu72HzC",
        "outputId": "45196d10-fa46-429e-ca2b-c5709b046368"
      },
      "execution_count": 170,
      "outputs": [
        {
          "output_type": "display_data",
          "data": {
            "text/plain": [
              "<IPython.core.display.HTML object>"
            ],
            "text/html": [
              "Tracking run with wandb version 0.18.7"
            ]
          },
          "metadata": {}
        },
        {
          "output_type": "display_data",
          "data": {
            "text/plain": [
              "<IPython.core.display.HTML object>"
            ],
            "text/html": [
              "Run data is saved locally in <code>/content/wandb/run-20241215_155556-ehjvbzk3</code>"
            ]
          },
          "metadata": {}
        },
        {
          "output_type": "display_data",
          "data": {
            "text/plain": [
              "<IPython.core.display.HTML object>"
            ],
            "text/html": [
              "Syncing run <strong><a href='https://wandb.ai/abrar39/time-series-forecasting/runs/ehjvbzk3' target=\"_blank\">exp-005</a></strong> to <a href='https://wandb.ai/abrar39/time-series-forecasting' target=\"_blank\">Weights & Biases</a> (<a href='https://wandb.me/developer-guide' target=\"_blank\">docs</a>)<br/>"
            ]
          },
          "metadata": {}
        },
        {
          "output_type": "display_data",
          "data": {
            "text/plain": [
              "<IPython.core.display.HTML object>"
            ],
            "text/html": [
              " View project at <a href='https://wandb.ai/abrar39/time-series-forecasting' target=\"_blank\">https://wandb.ai/abrar39/time-series-forecasting</a>"
            ]
          },
          "metadata": {}
        },
        {
          "output_type": "display_data",
          "data": {
            "text/plain": [
              "<IPython.core.display.HTML object>"
            ],
            "text/html": [
              " View run at <a href='https://wandb.ai/abrar39/time-series-forecasting/runs/ehjvbzk3' target=\"_blank\">https://wandb.ai/abrar39/time-series-forecasting/runs/ehjvbzk3</a>"
            ]
          },
          "metadata": {}
        }
      ]
    },
    {
      "cell_type": "code",
      "source": [
        "# select the device to use for training\n",
        "device = torch.device(\"cuda\" if torch.cuda.is_available() else \"cpu\")"
      ],
      "metadata": {
        "id": "k1OZmUkgET8S"
      },
      "execution_count": 171,
      "outputs": []
    },
    {
      "cell_type": "code",
      "source": [
        "import torch\n",
        "import torch.nn as nn\n",
        "\n",
        "# Define the LSTM-based model\n",
        "class LSTMModel(nn.Module):\n",
        "    def __init__(self):\n",
        "        super(LSTMModel, self).__init__()\n",
        "        #self.input_layer = nn.Linear(5, 5)  # Input transformation layer (if needed)\n",
        "        self.lstm = nn.LSTM(input_size=1, hidden_size=config.hidden_size, num_layers=config.num_layers, batch_first=True)\n",
        "        self.dropout = nn.Dropout(config.dropout)\n",
        "        self.fc1 = nn.Linear(config.hidden_size, config.hidden_size)\n",
        "        self.relu = nn.ReLU()\n",
        "        self.fc2 = nn.Linear(config.hidden_size, 1)\n",
        "\n",
        "    def forward(self, x):\n",
        "        #x = self.input_layer(x)  # Transform the input (optional, depending on data)\n",
        "        lstm_out, (hidden_state, cell_state) = self.lstm(x)  # Apply LSTM\n",
        "        x = self.fc1(lstm_out[:, -1, :])  # Use the last hidden state\n",
        "        x = self.relu(x)\n",
        "        x = self.fc2(x)\n",
        "        return x\n",
        "\n",
        "# Instantiate and print the model\n",
        "model = LSTMModel()\n",
        "print(model)\n"
      ],
      "metadata": {
        "colab": {
          "base_uri": "https://localhost:8080/"
        },
        "id": "gg3OqfhCErED",
        "outputId": "e0061a63-13eb-42d3-823b-14d6e928731c"
      },
      "execution_count": 172,
      "outputs": [
        {
          "output_type": "stream",
          "name": "stdout",
          "text": [
            "LSTMModel(\n",
            "  (lstm): LSTM(1, 20, batch_first=True)\n",
            "  (dropout): Dropout(p=0.5, inplace=False)\n",
            "  (fc1): Linear(in_features=20, out_features=20, bias=True)\n",
            "  (relu): ReLU()\n",
            "  (fc2): Linear(in_features=20, out_features=1, bias=True)\n",
            ")\n"
          ]
        }
      ]
    },
    {
      "cell_type": "code",
      "source": [
        "def train_model(model, train_loader, loss, optimizer, batch_size, device, epochs=100, patience=5):\n",
        "\n",
        "  best_val_loss = float('inf')  # Initialize best validation loss as infinity\n",
        "  epochs_since_improvement = 0  # Counter for the number of epochs without improvement\n",
        "\n",
        "  for epoch in range(epochs):\n",
        "    model.train()  # Set the model to training mode\n",
        "    epoch_loss = 0\n",
        "\n",
        "    for batch_idx, (inputs, targets) in enumerate(train_loader):\n",
        "        # Forward pass\n",
        "        outputs = model(inputs)  # Pass inputs through the model\n",
        "        loss = criterion(outputs, targets)  # Compute the loss\n",
        "\n",
        "        # Backward pass and optimization\n",
        "        optimizer.zero_grad()  # Clear gradients\n",
        "        loss.backward()        # Backpropagation\n",
        "        optimizer.step()       # Update the model parameters\n",
        "\n",
        "        epoch_loss += loss.item()\n",
        "\n",
        "    # Print epoch statistics\n",
        "    #print(f\"Epoch {epoch + 1}/{epochs}, Loss: {epoch_loss / len(train_loader):.4f}\")\n",
        "\n",
        "  # Compute validation loss at the end of each epoch\n",
        "    model.eval()  # Set the model to evaluation mode\n",
        "    with torch.no_grad():  # Disable gradient computation for validation\n",
        "        val_outputs = model(X_val)\n",
        "        val_loss = criterion(val_outputs, y_val)\n",
        "\n",
        "    # Print epoch statistics\n",
        "    print(f\"Epoch {epoch + 1}/{num_epochs}, Train Loss: {epoch_loss / len(train_loader):.4f}, Val Loss: {val_loss.item():.4f}\")\n",
        "\n",
        "    # Check if validation loss improved\n",
        "    if val_loss < best_val_loss:\n",
        "        best_val_loss = val_loss  # Update the best validation loss\n",
        "        epochs_since_improvement = 0  # Reset the counter if improvement occurs\n",
        "    else:\n",
        "        epochs_since_improvement += 1  # Increment the counter if no improvement\n",
        "\n",
        "    # Log the results to WANDB\n",
        "    wandb.log({\n",
        "        \"epoch\": epoch + 1,\n",
        "        \"train_loss\": epoch_loss / len(train_loader),\n",
        "        \"val_loss\": val_loss.item()\n",
        "    })\n",
        "\n",
        "    # Early stopping condition\n",
        "    if epochs_since_improvement >= patience:\n",
        "        print(f\"Early stopping after {epoch + 1} epochs\")\n",
        "        break  # Stop training if no improvement after `patience` epochs"
      ],
      "metadata": {
        "id": "YXVyPVDDTL5Q"
      },
      "execution_count": 174,
      "outputs": []
    },
    {
      "cell_type": "code",
      "source": [
        "\n",
        "# Define the loss function and optimizer\n",
        "criterion = nn.MSELoss()  # the loss function\n",
        "optimizer = optim.Adam(model.parameters(), lr=config.learning_rate, weight_decay=config.weight_decay) # the optimizer\n",
        "\n",
        "# Create DataLoader\n",
        "batch_size = config.batch_size\n",
        "train_dataset = TensorDataset(X_train, y_train)\n",
        "train_loader = DataLoader(train_dataset, batch_size=batch_size, shuffle=True)\n",
        "\n",
        "# Epochs\n",
        "num_epochs = config.epochs\n",
        "patience=5 # early stopping criteria\n",
        "\n",
        "train_model(model, train_loader, loss=criterion, optimizer=optimizer, batch_size=batch_size, device=device, epochs=num_epochs, patience=patience)\n",
        "\n",
        "# Save and log the model\n",
        "torch.save(model.state_dict(), \"model-exp-005.pth\")\n",
        "wandb.save(\"model-exp-005.pth\")\n",
        "\n",
        "# End the W&B run\n",
        "wandb.finish()"
      ],
      "metadata": {
        "colab": {
          "base_uri": "https://localhost:8080/",
          "height": 1000
        },
        "id": "c5Y-9pzuT0nU",
        "outputId": "5ada320e-3d3c-44e2-fc22-3849f37338c7"
      },
      "execution_count": 175,
      "outputs": [
        {
          "output_type": "stream",
          "name": "stdout",
          "text": [
            "Epoch 1/1000, Train Loss: 5848.2482, Val Loss: 19950.7012\n",
            "Epoch 2/1000, Train Loss: 5738.8296, Val Loss: 19686.0273\n",
            "Epoch 3/1000, Train Loss: 5576.1015, Val Loss: 19311.1602\n",
            "Epoch 4/1000, Train Loss: 5185.2392, Val Loss: 18226.4395\n",
            "Epoch 5/1000, Train Loss: 4621.6669, Val Loss: 17116.7754\n",
            "Epoch 6/1000, Train Loss: 4031.1361, Val Loss: 15828.9863\n",
            "Epoch 7/1000, Train Loss: 3343.8695, Val Loss: 14417.3066\n",
            "Epoch 8/1000, Train Loss: 2649.1766, Val Loss: 12782.9814\n",
            "Epoch 9/1000, Train Loss: 2050.7740, Val Loss: 11403.9629\n",
            "Epoch 10/1000, Train Loss: 1534.1061, Val Loss: 10114.9697\n",
            "Epoch 11/1000, Train Loss: 1111.8570, Val Loss: 8948.0820\n",
            "Epoch 12/1000, Train Loss: 772.8841, Val Loss: 7927.3677\n",
            "Epoch 13/1000, Train Loss: 528.4840, Val Loss: 7069.4902\n",
            "Epoch 14/1000, Train Loss: 361.6983, Val Loss: 6368.2905\n",
            "Epoch 15/1000, Train Loss: 251.1398, Val Loss: 5819.7427\n",
            "Epoch 16/1000, Train Loss: 188.8540, Val Loss: 5408.3032\n",
            "Epoch 17/1000, Train Loss: 152.7691, Val Loss: 5102.3022\n",
            "Epoch 18/1000, Train Loss: 130.0828, Val Loss: 4856.8950\n",
            "Epoch 19/1000, Train Loss: 112.6518, Val Loss: 4655.9375\n",
            "Epoch 20/1000, Train Loss: 99.8214, Val Loss: 4482.5791\n",
            "Epoch 21/1000, Train Loss: 89.6832, Val Loss: 4327.2729\n",
            "Epoch 22/1000, Train Loss: 79.2775, Val Loss: 4181.0083\n",
            "Epoch 23/1000, Train Loss: 70.9207, Val Loss: 4046.9575\n",
            "Epoch 24/1000, Train Loss: 65.0644, Val Loss: 3924.7061\n",
            "Epoch 25/1000, Train Loss: 58.8548, Val Loss: 3821.7180\n",
            "Epoch 26/1000, Train Loss: 53.1003, Val Loss: 3719.7351\n",
            "Epoch 27/1000, Train Loss: 47.8824, Val Loss: 3622.4641\n",
            "Epoch 28/1000, Train Loss: 44.0460, Val Loss: 3531.6167\n",
            "Epoch 29/1000, Train Loss: 39.8065, Val Loss: 3450.2307\n",
            "Epoch 30/1000, Train Loss: 36.0259, Val Loss: 3368.9011\n",
            "Epoch 31/1000, Train Loss: 32.5374, Val Loss: 3296.4478\n",
            "Epoch 32/1000, Train Loss: 29.5687, Val Loss: 3232.2241\n",
            "Epoch 33/1000, Train Loss: 27.2983, Val Loss: 3167.4995\n",
            "Epoch 34/1000, Train Loss: 25.1504, Val Loss: 3108.9868\n",
            "Epoch 35/1000, Train Loss: 23.3177, Val Loss: 3052.6506\n",
            "Epoch 36/1000, Train Loss: 22.2620, Val Loss: 2998.6262\n",
            "Epoch 37/1000, Train Loss: 20.1461, Val Loss: 2953.5002\n",
            "Epoch 38/1000, Train Loss: 19.5686, Val Loss: 2904.0737\n",
            "Epoch 39/1000, Train Loss: 18.9014, Val Loss: 2871.6624\n",
            "Epoch 40/1000, Train Loss: 17.7022, Val Loss: 2828.8135\n",
            "Epoch 41/1000, Train Loss: 16.7717, Val Loss: 2792.1736\n",
            "Epoch 42/1000, Train Loss: 17.1424, Val Loss: 2760.3669\n",
            "Epoch 43/1000, Train Loss: 15.9803, Val Loss: 2725.3616\n",
            "Epoch 44/1000, Train Loss: 15.6447, Val Loss: 2697.0032\n",
            "Epoch 45/1000, Train Loss: 15.5491, Val Loss: 2669.3594\n",
            "Epoch 46/1000, Train Loss: 15.1355, Val Loss: 2648.0447\n",
            "Epoch 47/1000, Train Loss: 15.4928, Val Loss: 2622.0852\n",
            "Epoch 48/1000, Train Loss: 15.1237, Val Loss: 2597.6982\n",
            "Epoch 49/1000, Train Loss: 14.7600, Val Loss: 2575.8206\n",
            "Epoch 50/1000, Train Loss: 14.4550, Val Loss: 2558.0051\n",
            "Epoch 51/1000, Train Loss: 14.6028, Val Loss: 2539.0850\n",
            "Epoch 52/1000, Train Loss: 14.2445, Val Loss: 2516.9124\n",
            "Epoch 53/1000, Train Loss: 14.2804, Val Loss: 2500.1504\n",
            "Epoch 54/1000, Train Loss: 14.4345, Val Loss: 2481.9771\n",
            "Epoch 55/1000, Train Loss: 14.0987, Val Loss: 2468.0920\n",
            "Epoch 56/1000, Train Loss: 13.9837, Val Loss: 2456.3320\n",
            "Epoch 57/1000, Train Loss: 13.9876, Val Loss: 2439.2791\n",
            "Epoch 58/1000, Train Loss: 14.1442, Val Loss: 2425.5581\n",
            "Epoch 59/1000, Train Loss: 13.9796, Val Loss: 2412.4092\n",
            "Epoch 60/1000, Train Loss: 13.9250, Val Loss: 2403.1899\n",
            "Epoch 61/1000, Train Loss: 14.1273, Val Loss: 2389.4756\n",
            "Epoch 62/1000, Train Loss: 13.8858, Val Loss: 2374.0522\n",
            "Epoch 63/1000, Train Loss: 13.8193, Val Loss: 2363.5256\n",
            "Epoch 64/1000, Train Loss: 14.0003, Val Loss: 2354.7817\n",
            "Epoch 65/1000, Train Loss: 13.6823, Val Loss: 2340.5674\n",
            "Epoch 66/1000, Train Loss: 13.6053, Val Loss: 2332.1399\n",
            "Epoch 67/1000, Train Loss: 13.5431, Val Loss: 2321.1162\n",
            "Epoch 68/1000, Train Loss: 13.6311, Val Loss: 2314.5305\n",
            "Epoch 69/1000, Train Loss: 13.5924, Val Loss: 2302.5320\n",
            "Epoch 70/1000, Train Loss: 13.8620, Val Loss: 2290.9399\n",
            "Epoch 71/1000, Train Loss: 13.6085, Val Loss: 2279.5947\n",
            "Epoch 72/1000, Train Loss: 13.9435, Val Loss: 2271.9270\n",
            "Epoch 73/1000, Train Loss: 13.6078, Val Loss: 2263.8894\n",
            "Epoch 74/1000, Train Loss: 13.4542, Val Loss: 2252.4146\n",
            "Epoch 75/1000, Train Loss: 13.7774, Val Loss: 2240.0833\n",
            "Epoch 76/1000, Train Loss: 13.3850, Val Loss: 2236.9375\n",
            "Epoch 77/1000, Train Loss: 13.3918, Val Loss: 2225.2732\n",
            "Epoch 78/1000, Train Loss: 13.3124, Val Loss: 2213.6865\n",
            "Epoch 79/1000, Train Loss: 13.5429, Val Loss: 2206.8149\n",
            "Epoch 80/1000, Train Loss: 13.5768, Val Loss: 2198.8518\n",
            "Epoch 81/1000, Train Loss: 13.9221, Val Loss: 2187.2764\n",
            "Epoch 82/1000, Train Loss: 13.2217, Val Loss: 2176.2207\n",
            "Epoch 83/1000, Train Loss: 13.4802, Val Loss: 2166.7451\n",
            "Epoch 84/1000, Train Loss: 13.0994, Val Loss: 2159.9316\n",
            "Epoch 85/1000, Train Loss: 13.1922, Val Loss: 2145.2939\n",
            "Epoch 86/1000, Train Loss: 13.4506, Val Loss: 2140.2439\n",
            "Epoch 87/1000, Train Loss: 13.3582, Val Loss: 2131.6050\n",
            "Epoch 88/1000, Train Loss: 13.3543, Val Loss: 2124.7202\n",
            "Epoch 89/1000, Train Loss: 13.0154, Val Loss: 2117.6096\n",
            "Epoch 90/1000, Train Loss: 13.3455, Val Loss: 2109.5571\n",
            "Epoch 91/1000, Train Loss: 12.9436, Val Loss: 2095.4170\n",
            "Epoch 92/1000, Train Loss: 13.0722, Val Loss: 2089.0562\n",
            "Epoch 93/1000, Train Loss: 12.8804, Val Loss: 2081.3555\n",
            "Epoch 94/1000, Train Loss: 12.8997, Val Loss: 2081.1040\n",
            "Epoch 95/1000, Train Loss: 12.8694, Val Loss: 2067.7742\n",
            "Epoch 96/1000, Train Loss: 12.6797, Val Loss: 2055.3191\n",
            "Epoch 97/1000, Train Loss: 12.8578, Val Loss: 2051.8245\n",
            "Epoch 98/1000, Train Loss: 13.2108, Val Loss: 2044.5596\n",
            "Epoch 99/1000, Train Loss: 13.9140, Val Loss: 2044.7709\n",
            "Epoch 100/1000, Train Loss: 12.7899, Val Loss: 2022.5144\n",
            "Epoch 101/1000, Train Loss: 13.1801, Val Loss: 2023.2432\n",
            "Epoch 102/1000, Train Loss: 12.5916, Val Loss: 2014.2169\n",
            "Epoch 103/1000, Train Loss: 12.6768, Val Loss: 2007.3115\n",
            "Epoch 104/1000, Train Loss: 12.6988, Val Loss: 1994.7987\n",
            "Epoch 105/1000, Train Loss: 12.7586, Val Loss: 1987.6487\n",
            "Epoch 106/1000, Train Loss: 12.5812, Val Loss: 1979.8981\n",
            "Epoch 107/1000, Train Loss: 12.8579, Val Loss: 1976.1040\n",
            "Epoch 108/1000, Train Loss: 12.5685, Val Loss: 1972.9861\n",
            "Epoch 109/1000, Train Loss: 12.4391, Val Loss: 1968.9077\n",
            "Epoch 110/1000, Train Loss: 12.7463, Val Loss: 1953.1346\n",
            "Epoch 111/1000, Train Loss: 12.7128, Val Loss: 1952.5470\n",
            "Epoch 112/1000, Train Loss: 12.4767, Val Loss: 1939.6921\n",
            "Epoch 113/1000, Train Loss: 12.3483, Val Loss: 1933.9346\n",
            "Epoch 114/1000, Train Loss: 12.5323, Val Loss: 1922.3440\n",
            "Epoch 115/1000, Train Loss: 12.5655, Val Loss: 1923.0602\n",
            "Epoch 116/1000, Train Loss: 12.4247, Val Loss: 1918.8252\n",
            "Epoch 117/1000, Train Loss: 12.6814, Val Loss: 1908.8624\n",
            "Epoch 118/1000, Train Loss: 12.0904, Val Loss: 1904.1531\n",
            "Epoch 119/1000, Train Loss: 12.3207, Val Loss: 1890.3606\n",
            "Epoch 120/1000, Train Loss: 12.3177, Val Loss: 1882.6042\n",
            "Epoch 121/1000, Train Loss: 12.1670, Val Loss: 1874.9983\n",
            "Epoch 122/1000, Train Loss: 11.9848, Val Loss: 1869.0613\n",
            "Epoch 123/1000, Train Loss: 12.2837, Val Loss: 1866.5261\n",
            "Epoch 124/1000, Train Loss: 12.0624, Val Loss: 1859.9553\n",
            "Epoch 125/1000, Train Loss: 12.3467, Val Loss: 1846.3744\n",
            "Epoch 126/1000, Train Loss: 11.9384, Val Loss: 1853.4836\n",
            "Epoch 127/1000, Train Loss: 12.1568, Val Loss: 1835.1205\n",
            "Epoch 128/1000, Train Loss: 12.2752, Val Loss: 1828.4434\n",
            "Epoch 129/1000, Train Loss: 12.0550, Val Loss: 1821.8647\n",
            "Epoch 130/1000, Train Loss: 12.4020, Val Loss: 1815.9103\n",
            "Epoch 131/1000, Train Loss: 11.9993, Val Loss: 1799.8237\n",
            "Epoch 132/1000, Train Loss: 11.8108, Val Loss: 1793.7871\n",
            "Epoch 133/1000, Train Loss: 11.7965, Val Loss: 1790.8702\n",
            "Epoch 134/1000, Train Loss: 11.9543, Val Loss: 1786.4734\n",
            "Epoch 135/1000, Train Loss: 11.6873, Val Loss: 1777.9196\n",
            "Epoch 136/1000, Train Loss: 12.3027, Val Loss: 1770.8662\n",
            "Epoch 137/1000, Train Loss: 12.2457, Val Loss: 1756.4755\n",
            "Epoch 138/1000, Train Loss: 11.7724, Val Loss: 2075.5981\n",
            "Epoch 139/1000, Train Loss: 11.9391, Val Loss: 1930.9927\n",
            "Epoch 140/1000, Train Loss: 11.6551, Val Loss: 2090.2302\n",
            "Epoch 141/1000, Train Loss: 11.7390, Val Loss: 1990.4983\n",
            "Epoch 142/1000, Train Loss: 11.7540, Val Loss: 2039.2041\n",
            "Early stopping after 142 epochs\n"
          ]
        },
        {
          "output_type": "display_data",
          "data": {
            "text/plain": [
              "<IPython.core.display.HTML object>"
            ],
            "text/html": [
              "\n",
              "    <style>\n",
              "        .wandb-row {\n",
              "            display: flex;\n",
              "            flex-direction: row;\n",
              "            flex-wrap: wrap;\n",
              "            justify-content: flex-start;\n",
              "            width: 100%;\n",
              "        }\n",
              "        .wandb-col {\n",
              "            display: flex;\n",
              "            flex-direction: column;\n",
              "            flex-basis: 100%;\n",
              "            flex: 1;\n",
              "            padding: 10px;\n",
              "        }\n",
              "    </style>\n",
              "<div class=\"wandb-row\"><div class=\"wandb-col\"><h3>Run history:</h3><br/><table class=\"wandb\"><tr><td>epoch</td><td>▁▁▁▁▁▂▂▂▂▂▂▃▃▃▃▃▄▄▄▄▅▅▅▅▅▆▆▆▆▆▇▇▇▇▇▇▇███</td></tr><tr><td>train_loss</td><td>█▇▅▃▂▁▁▁▁▁▁▁▁▁▁▁▁▁▁▁▁▁▁▁▁▁▁▁▁▁▁▁▁▁▁▁▁▁▁▁</td></tr><tr><td>val_loss</td><td>█▇▆▅▅▃▂▂▂▂▁▁▁▁▁▁▁▁▁▁▁▁▁▁▁▁▁▁▁▁▁▁▁▁▁▁▁▁▁▁</td></tr></table><br/></div><div class=\"wandb-col\"><h3>Run summary:</h3><br/><table class=\"wandb\"><tr><td>epoch</td><td>142</td></tr><tr><td>train_loss</td><td>11.75401</td></tr><tr><td>val_loss</td><td>2039.2041</td></tr></table><br/></div></div>"
            ]
          },
          "metadata": {}
        },
        {
          "output_type": "display_data",
          "data": {
            "text/plain": [
              "<IPython.core.display.HTML object>"
            ],
            "text/html": [
              " View run <strong style=\"color:#cdcd00\">exp-005</strong> at: <a href='https://wandb.ai/abrar39/time-series-forecasting/runs/ehjvbzk3' target=\"_blank\">https://wandb.ai/abrar39/time-series-forecasting/runs/ehjvbzk3</a><br/> View project at: <a href='https://wandb.ai/abrar39/time-series-forecasting' target=\"_blank\">https://wandb.ai/abrar39/time-series-forecasting</a><br/>Synced 5 W&B file(s), 0 media file(s), 0 artifact file(s) and 1 other file(s)"
            ]
          },
          "metadata": {}
        },
        {
          "output_type": "display_data",
          "data": {
            "text/plain": [
              "<IPython.core.display.HTML object>"
            ],
            "text/html": [
              "Find logs at: <code>./wandb/run-20241215_155556-ehjvbzk3/logs</code>"
            ]
          },
          "metadata": {}
        }
      ]
    },
    {
      "cell_type": "markdown",
      "source": [
        "# Evaluation of the Model\n"
      ],
      "metadata": {
        "id": "wOYifgKFWoLG"
      }
    },
    {
      "cell_type": "code",
      "source": [
        "# Set the model to evaluation mode\n",
        "model.eval()\n",
        "\n",
        "# Create the DataLoader for validation data\n",
        "val_dataset = TensorDataset(X_val, y_val)\n",
        "val_loader = DataLoader(val_dataset, batch_size=batch_size, shuffle=False)\n",
        "\n",
        "# Initialize lists to store actual and predicted values\n",
        "actuals = []\n",
        "predictions = []\n",
        "\n",
        "# Loop through the validation set\n",
        "with torch.no_grad():  # Disable gradient calculation for validation\n",
        "    for inputs, targets in val_loader:\n",
        "        # Forward pass\n",
        "        outputs = model(inputs)\n",
        "\n",
        "        # Store actual and predicted values\n",
        "        actuals.append(targets.numpy())\n",
        "        predictions.append(outputs.numpy())\n",
        "\n",
        "# Convert lists to numpy arrays\n",
        "actuals = np.concatenate(actuals, axis=0)\n",
        "predictions = np.concatenate(predictions, axis=0)"
      ],
      "metadata": {
        "id": "jWNPI3hhRQPv"
      },
      "execution_count": 176,
      "outputs": []
    },
    {
      "cell_type": "code",
      "source": [
        "# Plot actual vs predicted values for validation set\n",
        "plt.figure(figsize=(12, 6))\n",
        "plt.plot(actuals, label=\"Actual Values\", color='blue', linestyle='-', marker='o')\n",
        "plt.plot(predictions, label=\"Predicted Values\", color='red', linestyle='--', marker='x')\n",
        "plt.xlabel(\"Samples\")\n",
        "plt.ylabel(\"Close Value\")\n",
        "plt.title(\"Actual vs Predicted Close Values (Validation Set)\")\n",
        "plt.legend()\n",
        "plt.show()\n"
      ],
      "metadata": {
        "colab": {
          "base_uri": "https://localhost:8080/",
          "height": 564
        },
        "id": "Z0VECJ-mWr0x",
        "outputId": "1652def1-e9e1-4b26-cae6-30e4823d29b9"
      },
      "execution_count": 177,
      "outputs": [
        {
          "output_type": "display_data",
          "data": {
            "text/plain": [
              "<Figure size 1200x600 with 1 Axes>"
            ],
            "image/png": "[encoded data removed]"
          },
          "metadata": {}
        }
      ]
    },
    {
      "cell_type": "code",
      "source": [
        "# Plot actual vs predicted values for the first few samples\n",
        "num_samples_to_display = 10  # Set how many samples you want to display\n",
        "plt.figure(figsize=(12, 6))\n",
        "\n",
        "# Plot the actual values\n",
        "plt.subplot(1, 2, 1)\n",
        "plt.plot(actuals[:num_samples_to_display], color='blue', marker='o', label=\"Actual Values\")\n",
        "plt.title(\"Actual Values\")\n",
        "plt.xlabel(\"Samples\")\n",
        "plt.ylabel(\"Close Value\")\n",
        "plt.grid(True)\n",
        "\n",
        "# Plot the predicted values\n",
        "plt.subplot(1, 2, 2)\n",
        "plt.plot(predictions[:num_samples_to_display], color='red', marker='x', label=\"Predicted Values\")\n",
        "plt.title(\"Predicted Values\")\n",
        "plt.xlabel(\"Samples\")\n",
        "plt.ylabel(\"Close Value\")\n",
        "plt.grid(True)\n",
        "\n",
        "plt.tight_layout()\n",
        "plt.show()\n"
      ],
      "metadata": {
        "colab": {
          "base_uri": "https://localhost:8080/",
          "height": 607
        },
        "id": "H41tX4NvWwfU",
        "outputId": "54d140c1-2a31-4b6b-b9fc-b461922459fd"
      },
      "execution_count": 169,
      "outputs": [
        {
          "output_type": "display_data",
          "data": {
            "text/plain": [
              "<Figure size 1200x600 with 2 Axes>"
            ],
            "image/png": "[encoded data removed]"
          },
          "metadata": {}
        }
      ]
    },
    {
      "cell_type": "code",
      "source": [],
      "metadata": {
        "id": "22JuFi3tW-OU"
      },
      "execution_count": 169,
      "outputs": []
    }
  ]
}